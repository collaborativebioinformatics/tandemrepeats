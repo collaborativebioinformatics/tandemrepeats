{
 "cells": [
  {
   "cell_type": "code",
   "execution_count": 3,
   "id": "8ef7b13b-d273-4511-9e0e-7a82b11d7131",
   "metadata": {},
   "outputs": [],
   "source": [
    "import tdb\n",
    "import numpy as np\n",
    "import pandas as pd\n",
    "import seaborn as sb\n",
    "import matplotlib.pyplot as plt\n",
    "from matplotlib import cm"
   ]
  },
  {
   "cell_type": "code",
   "execution_count": 53,
   "id": "daf1a45e-7b54-4dab-9fd8-e4a15c49f859",
   "metadata": {},
   "outputs": [],
   "source": [
    "data = tdb.load_tdb(\"hprc_105.tdb/\",\n",
    "                    lfilters=[(\"chrom\", \"=\", \"chr4\")]) \n",
    "metadata = (pd.read_csv(\"igsr_samples.tsv\", sep='\\t')\n",
    "                .where(lambda x: x[\"Sample name\"].isin(data[\"sample\"].keys()))\n",
    "                .dropna())"
   ]
  },
  {
   "cell_type": "markdown",
   "id": "7ff5559b-7747-4e95-943d-8a1d4159e4cc",
   "metadata": {},
   "source": [
    "Here I am trying to calculate Fst for all the tandem repeat we have in the databases following the defintion in https://www.ncbi.nlm.nih.gov/pmc/articles/PMC3141729/#APP1title\n",
    "\n",
    "![alt text](fst.png \"Title\")"
   ]
  },
  {
   "cell_type": "markdown",
   "id": "ef899fba-e3d9-49e3-9f29-0060cddd59f9",
   "metadata": {},
   "source": [
    "I will calculate w first from the metada and not in the larger natural population for simplicity"
   ]
  },
  {
   "cell_type": "code",
   "execution_count": 13,
   "id": "e8558bcf-205e-4d21-a8ac-b08eb0de27bd",
   "metadata": {},
   "outputs": [],
   "source": [
    "counts = metadata[\"Superpopulation code\"].value_counts()\n",
    "w = counts / counts.sum()"
   ]
  },
  {
   "cell_type": "code",
   "execution_count": 26,
   "id": "31fcd129-ff47-45bd-bb9c-6e038e2dbea4",
   "metadata": {},
   "outputs": [
    {
     "data": {
      "text/html": [
       "<div>\n",
       "<style scoped>\n",
       "    .dataframe tbody tr th:only-of-type {\n",
       "        vertical-align: middle;\n",
       "    }\n",
       "\n",
       "    .dataframe tbody tr th {\n",
       "        vertical-align: top;\n",
       "    }\n",
       "\n",
       "    .dataframe thead th {\n",
       "        text-align: right;\n",
       "    }\n",
       "</style>\n",
       "<table border=\"1\" class=\"dataframe\">\n",
       "  <thead>\n",
       "    <tr style=\"text-align: right;\">\n",
       "      <th></th>\n",
       "      <th>LocusID</th>\n",
       "      <th>allele_number</th>\n",
       "      <th>allele_length</th>\n",
       "      <th>sequence</th>\n",
       "    </tr>\n",
       "  </thead>\n",
       "  <tbody>\n",
       "    <tr>\n",
       "      <th>0</th>\n",
       "      <td>604481</td>\n",
       "      <td>0</td>\n",
       "      <td>85</td>\n",
       "      <td>b'TTACTATGAGATTGCTATCCACTATTTATATGTGTGTGTGTGTG...</td>\n",
       "    </tr>\n",
       "    <tr>\n",
       "      <th>1</th>\n",
       "      <td>604481</td>\n",
       "      <td>1</td>\n",
       "      <td>87</td>\n",
       "      <td>b'TTACTATGAGATTGCTATCCACTATTTATATGTGTGTGTGTGTG...</td>\n",
       "    </tr>\n",
       "    <tr>\n",
       "      <th>2</th>\n",
       "      <td>604481</td>\n",
       "      <td>2</td>\n",
       "      <td>83</td>\n",
       "      <td>b'TTACTATGAGATTGCTATCCACTATTTATATGTGTGTGTGTGTG...</td>\n",
       "    </tr>\n",
       "    <tr>\n",
       "      <th>3</th>\n",
       "      <td>604481</td>\n",
       "      <td>3</td>\n",
       "      <td>89</td>\n",
       "      <td>b'TTACTATGAGATTGCTATCCACTATTTATATGTGTGTGTGTGTG...</td>\n",
       "    </tr>\n",
       "    <tr>\n",
       "      <th>4</th>\n",
       "      <td>604481</td>\n",
       "      <td>4</td>\n",
       "      <td>93</td>\n",
       "      <td>b'TTACTATGAGATTGCTATCCACTATTTATATGTGTGTGTGTGTG...</td>\n",
       "    </tr>\n",
       "  </tbody>\n",
       "</table>\n",
       "</div>"
      ],
      "text/plain": [
       "   LocusID  allele_number  allele_length  \\\n",
       "0   604481              0             85   \n",
       "1   604481              1             87   \n",
       "2   604481              2             83   \n",
       "3   604481              3             89   \n",
       "4   604481              4             93   \n",
       "\n",
       "                                            sequence  \n",
       "0  b'TTACTATGAGATTGCTATCCACTATTTATATGTGTGTGTGTGTG...  \n",
       "1  b'TTACTATGAGATTGCTATCCACTATTTATATGTGTGTGTGTGTG...  \n",
       "2  b'TTACTATGAGATTGCTATCCACTATTTATATGTGTGTGTGTGTG...  \n",
       "3  b'TTACTATGAGATTGCTATCCACTATTTATATGTGTGTGTGTGTG...  \n",
       "4  b'TTACTATGAGATTGCTATCCACTATTTATATGTGTGTGTGTGTG...  "
      ]
     },
     "execution_count": 26,
     "metadata": {},
     "output_type": "execute_result"
    }
   ],
   "source": [
    "data['allele'].head()"
   ]
  },
  {
   "cell_type": "code",
   "execution_count": 58,
   "id": "90e83158-9154-4c75-a8ea-f7f41c73f41a",
   "metadata": {},
   "outputs": [
    {
     "name": "stdout",
     "output_type": "stream",
     "text": [
      "Superpopulation code\n",
      "AFR    [HG01887, HG02055, HG02145, HG02257, HG02809, ...\n",
      "AMR    [HG00733, HG00738, HG01243, HG01109, HG01255, ...\n",
      "EAS    [HG00423, HG00706, HG02074, HG02132, HG00544, ...\n",
      "SAS    [HG02738, HG02602, HG02683, HG02656, HG04115, ...\n",
      "Name: Sample name, dtype: object\n"
     ]
    }
   ],
   "source": [
    "samples_per_pop = metadata.groupby('Superpopulation code')['Sample name'].agg(list)\n",
    "\n"
   ]
  },
  {
   "cell_type": "code",
   "execution_count": 88,
   "id": "251f07bd-02a6-4932-8fbb-bb3eefb8831a",
   "metadata": {},
   "outputs": [],
   "source": [
    "def hasVariant(df, locus, allele):\n",
    "    condition = (df['LocusID'] == locus) & (df['allele_number'] == allele)\n",
    "    return df[condition].shape[0] > 0\n",
    "\n"
   ]
  },
  {
   "cell_type": "code",
   "execution_count": 112,
   "id": "a84c832f-1fdf-4162-9431-acf4079cb2b9",
   "metadata": {},
   "outputs": [
    {
     "ename": "TypeError",
     "evalue": "NDFrame.get() missing 1 required positional argument: 'key'",
     "output_type": "error",
     "traceback": [
      "\u001b[0;31m---------------------------------------------------------------------------\u001b[0m",
      "\u001b[0;31mTypeError\u001b[0m                                 Traceback (most recent call last)",
      "Cell \u001b[0;32mIn[112], line 1\u001b[0m\n\u001b[0;32m----> 1\u001b[0m \u001b[43mdata\u001b[49m\u001b[43m[\u001b[49m\u001b[38;5;124;43m'\u001b[39;49m\u001b[38;5;124;43msample\u001b[39;49m\u001b[38;5;124;43m'\u001b[39;49m\u001b[43m]\u001b[49m\u001b[43m[\u001b[49m\u001b[38;5;124;43m'\u001b[39;49m\u001b[38;5;124;43mHG01887\u001b[39;49m\u001b[38;5;124;43m'\u001b[39;49m\u001b[43m]\u001b[49m\u001b[38;5;241;43m.\u001b[39;49m\u001b[43mhead\u001b[49m\u001b[43m(\u001b[49m\u001b[38;5;241;43m1\u001b[39;49m\u001b[43m)\u001b[49m\u001b[43m[\u001b[49m\u001b[38;5;124;43m'\u001b[39;49m\u001b[38;5;124;43mLocusID\u001b[39;49m\u001b[38;5;124;43m'\u001b[39;49m\u001b[43m]\u001b[49m\u001b[38;5;241;43m.\u001b[39;49m\u001b[43mget\u001b[49m\u001b[43m(\u001b[49m\u001b[43m)\u001b[49m\n",
      "\u001b[0;31mTypeError\u001b[0m: NDFrame.get() missing 1 required positional argument: 'key'"
     ]
    }
   ],
   "source": [
    "data['sample']['HG01887'].head(1)['LocusID']"
   ]
  },
  {
   "cell_type": "code",
   "execution_count": 121,
   "id": "0ec78fa1-0bee-4d43-9dc6-7f15f45e07d1",
   "metadata": {},
   "outputs": [
    {
     "name": "stderr",
     "output_type": "stream",
     "text": [
      "/var/folders/4f/v5q9cq3n38xfxdz6wmvr39h80000gp/T/ipykernel_5478/1232242501.py:21: RuntimeWarning: invalid value encountered in scalar divide\n",
      "  Fst = 1 - (Hs/Ht)\n",
      "/var/folders/4f/v5q9cq3n38xfxdz6wmvr39h80000gp/T/ipykernel_5478/1232242501.py:25: SettingWithCopyWarning: \n",
      "A value is trying to be set on a copy of a slice from a DataFrame.\n",
      "Try using .loc[row_indexer,col_indexer] = value instead\n",
      "\n",
      "See the caveats in the documentation: https://pandas.pydata.org/pandas-docs/stable/user_guide/indexing.html#returning-a-view-versus-a-copy\n",
      "  df['fst'] = df.apply(calculateFst, axis=1)\n"
     ]
    },
    {
     "data": {
      "text/html": [
       "<div>\n",
       "<style scoped>\n",
       "    .dataframe tbody tr th:only-of-type {\n",
       "        vertical-align: middle;\n",
       "    }\n",
       "\n",
       "    .dataframe tbody tr th {\n",
       "        vertical-align: top;\n",
       "    }\n",
       "\n",
       "    .dataframe thead th {\n",
       "        text-align: right;\n",
       "    }\n",
       "</style>\n",
       "<table border=\"1\" class=\"dataframe\">\n",
       "  <thead>\n",
       "    <tr style=\"text-align: right;\">\n",
       "      <th></th>\n",
       "      <th>LocusID</th>\n",
       "      <th>allele_number</th>\n",
       "      <th>allele_length</th>\n",
       "      <th>sequence</th>\n",
       "      <th>fst</th>\n",
       "    </tr>\n",
       "  </thead>\n",
       "  <tbody>\n",
       "    <tr>\n",
       "      <th>0</th>\n",
       "      <td>604481</td>\n",
       "      <td>0</td>\n",
       "      <td>85</td>\n",
       "      <td>b'TTACTATGAGATTGCTATCCACTATTTATATGTGTGTGTGTGTG...</td>\n",
       "      <td>0.013590</td>\n",
       "    </tr>\n",
       "    <tr>\n",
       "      <th>1</th>\n",
       "      <td>604481</td>\n",
       "      <td>1</td>\n",
       "      <td>87</td>\n",
       "      <td>b'TTACTATGAGATTGCTATCCACTATTTATATGTGTGTGTGTGTG...</td>\n",
       "      <td>0.007131</td>\n",
       "    </tr>\n",
       "    <tr>\n",
       "      <th>2</th>\n",
       "      <td>604481</td>\n",
       "      <td>2</td>\n",
       "      <td>83</td>\n",
       "      <td>b'TTACTATGAGATTGCTATCCACTATTTATATGTGTGTGTGTGTG...</td>\n",
       "      <td>0.033183</td>\n",
       "    </tr>\n",
       "    <tr>\n",
       "      <th>3</th>\n",
       "      <td>604481</td>\n",
       "      <td>3</td>\n",
       "      <td>89</td>\n",
       "      <td>b'TTACTATGAGATTGCTATCCACTATTTATATGTGTGTGTGTGTG...</td>\n",
       "      <td>0.020646</td>\n",
       "    </tr>\n",
       "    <tr>\n",
       "      <th>4</th>\n",
       "      <td>604481</td>\n",
       "      <td>4</td>\n",
       "      <td>93</td>\n",
       "      <td>b'TTACTATGAGATTGCTATCCACTATTTATATGTGTGTGTGTGTG...</td>\n",
       "      <td>NaN</td>\n",
       "    </tr>\n",
       "    <tr>\n",
       "      <th>5</th>\n",
       "      <td>604481</td>\n",
       "      <td>5</td>\n",
       "      <td>91</td>\n",
       "      <td>b'TTACTATGAGATTGCTATCCACTATTTATATGTGTGTGTGTGTG...</td>\n",
       "      <td>0.027007</td>\n",
       "    </tr>\n",
       "    <tr>\n",
       "      <th>6</th>\n",
       "      <td>604481</td>\n",
       "      <td>6</td>\n",
       "      <td>91</td>\n",
       "      <td>b'TTACTATGAGATTGCTATCCACTATTTATGTGTGTGTGTGTGTG...</td>\n",
       "      <td>0.013986</td>\n",
       "    </tr>\n",
       "    <tr>\n",
       "      <th>7</th>\n",
       "      <td>604481</td>\n",
       "      <td>7</td>\n",
       "      <td>91</td>\n",
       "      <td>b'TTACTATGAGATTGCTATCCACTATTTATATGTGTGTGTGTGTG...</td>\n",
       "      <td>0.015597</td>\n",
       "    </tr>\n",
       "    <tr>\n",
       "      <th>8</th>\n",
       "      <td>604481</td>\n",
       "      <td>8</td>\n",
       "      <td>87</td>\n",
       "      <td>b'TTACTATGAGATTGCTATCCACTATTTATGTGTGTGTGTGTGTG...</td>\n",
       "      <td>0.013986</td>\n",
       "    </tr>\n",
       "    <tr>\n",
       "      <th>9</th>\n",
       "      <td>604481</td>\n",
       "      <td>9</td>\n",
       "      <td>90</td>\n",
       "      <td>b'TTACTATGAGATTGCTATCCACTATTTATATGTGTGTGTGTGTG...</td>\n",
       "      <td>0.015597</td>\n",
       "    </tr>\n",
       "  </tbody>\n",
       "</table>\n",
       "</div>"
      ],
      "text/plain": [
       "   LocusID  allele_number  allele_length  \\\n",
       "0   604481              0             85   \n",
       "1   604481              1             87   \n",
       "2   604481              2             83   \n",
       "3   604481              3             89   \n",
       "4   604481              4             93   \n",
       "5   604481              5             91   \n",
       "6   604481              6             91   \n",
       "7   604481              7             91   \n",
       "8   604481              8             87   \n",
       "9   604481              9             90   \n",
       "\n",
       "                                            sequence       fst  \n",
       "0  b'TTACTATGAGATTGCTATCCACTATTTATATGTGTGTGTGTGTG...  0.013590  \n",
       "1  b'TTACTATGAGATTGCTATCCACTATTTATATGTGTGTGTGTGTG...  0.007131  \n",
       "2  b'TTACTATGAGATTGCTATCCACTATTTATATGTGTGTGTGTGTG...  0.033183  \n",
       "3  b'TTACTATGAGATTGCTATCCACTATTTATATGTGTGTGTGTGTG...  0.020646  \n",
       "4  b'TTACTATGAGATTGCTATCCACTATTTATATGTGTGTGTGTGTG...       NaN  \n",
       "5  b'TTACTATGAGATTGCTATCCACTATTTATATGTGTGTGTGTGTG...  0.027007  \n",
       "6  b'TTACTATGAGATTGCTATCCACTATTTATGTGTGTGTGTGTGTG...  0.013986  \n",
       "7  b'TTACTATGAGATTGCTATCCACTATTTATATGTGTGTGTGTGTG...  0.015597  \n",
       "8  b'TTACTATGAGATTGCTATCCACTATTTATGTGTGTGTGTGTGTG...  0.013986  \n",
       "9  b'TTACTATGAGATTGCTATCCACTATTTATATGTGTGTGTGTGTG...  0.015597  "
      ]
     },
     "execution_count": 121,
     "metadata": {},
     "output_type": "execute_result"
    }
   ],
   "source": [
    "locusID = 604481\n",
    "allele_number = 3\n",
    "\n",
    "def calculateFst(locus_row):\n",
    "    locusID = locus_row['LocusID']\n",
    "    allele_number = locus_row['allele_number']\n",
    "    Hs = 0\n",
    "    Ht_1 = 0\n",
    "    Ht_2 = 0\n",
    "    for pop in samples_per_pop.keys():\n",
    "        number_of_haps = len(samples_per_pop[pop])*2\n",
    "        has_variants = [hasVariant(data['sample'][s], locusID, allele_number) for s in samples_per_pop[pop]]\n",
    "        pk = sum(has_variants)/number_of_haps\n",
    "        qk = 1-pk\n",
    "        Hs += 2 * w[pop] * pk * qk\n",
    "        Ht_1 +=  w[pop] * pk \n",
    "        Ht_2 +=  w[pop] * qk \n",
    "    \n",
    "    Ht = 2* Ht_1 * Ht_2\n",
    "    \n",
    "    Fst = 1 - (Hs/Ht)\n",
    "    return Fst\n",
    "    \n",
    "df = data['allele'].head(10)\n",
    "df['fst'] = df.apply(calculateFst, axis=1)\n",
    "df\n",
    "#calculateFst(data['sample']['HG01887'].head(1))\n"
   ]
  },
  {
   "cell_type": "code",
   "execution_count": null,
   "id": "07cad842-d879-425e-a729-2cf5089bd4b5",
   "metadata": {},
   "outputs": [
    {
     "name": "stderr",
     "output_type": "stream",
     "text": [
      "/var/folders/4f/v5q9cq3n38xfxdz6wmvr39h80000gp/T/ipykernel_5478/1232242501.py:21: RuntimeWarning: invalid value encountered in scalar divide\n",
      "  Fst = 1 - (Hs/Ht)\n"
     ]
    }
   ],
   "source": [
    "data['fst'] = data['allele'].apply(calculateFst, axis=1)"
   ]
  },
  {
   "cell_type": "code",
   "execution_count": null,
   "id": "35e2541b-a513-4433-be48-25e05ac091b1",
   "metadata": {},
   "outputs": [],
   "source": []
  },
  {
   "cell_type": "code",
   "execution_count": null,
   "id": "eec9ca1e-aa75-44aa-92c9-bbf1ce953806",
   "metadata": {},
   "outputs": [],
   "source": []
  },
  {
   "cell_type": "code",
   "execution_count": 7,
   "id": "10c81d17-d1af-483e-8a4b-8bf5533ab4e2",
   "metadata": {},
   "outputs": [
    {
     "data": {
      "text/plain": [
       "LocusID  allele_number\n",
       "604481   0                  85\n",
       "         1                  87\n",
       "         2                  83\n",
       "         3                  89\n",
       "         4                  93\n",
       "                          ... \n",
       "664070   198              4318\n",
       "         199              3599\n",
       "         200              4186\n",
       "         201              2060\n",
       "         202              3107\n",
       "Name: allele_length, Length: 762908, dtype: uint16"
      ]
     },
     "execution_count": 7,
     "metadata": {},
     "output_type": "execute_result"
    }
   ],
   "source": [
    "\n"
   ]
  }
 ],
 "metadata": {
  "kernelspec": {
   "display_name": "Python 3 (ipykernel)",
   "language": "python",
   "name": "python3"
  },
  "language_info": {
   "codemirror_mode": {
    "name": "ipython",
    "version": 3
   },
   "file_extension": ".py",
   "mimetype": "text/x-python",
   "name": "python",
   "nbconvert_exporter": "python",
   "pygments_lexer": "ipython3",
   "version": "3.12.2"
  }
 },
 "nbformat": 4,
 "nbformat_minor": 5
}
